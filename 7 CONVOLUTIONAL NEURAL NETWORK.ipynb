{
 "cells": [
  {
   "cell_type": "code",
   "execution_count": 1,
   "metadata": {},
   "outputs": [],
   "source": [
    "#CNN is .better than multilayer perceptions and has less parameters than dense layers.Convolution, pooling are main parts.\n",
    "#CONVOLUTION:#Kernel is also called filter.Kernel is matrix of weight elements.Greyscale Image is converted into pixels matrix.\n",
    "#Output is of same dimension as input original image.WE consider dot product of image and kernel.\n",
    "#Apply zero padding to the edge multiplications.\n"
   ]
  },
  {
   "cell_type": "code",
   "execution_count": 2,
   "metadata": {},
   "outputs": [],
   "source": [
    "#Kernel is a feature detector filter.Eg oblique line or vertical line detector.Model self learns the kernel.\n",
    "#By learning the weights of kernel we train CNN.Grid size is same as order of matrix.We specify grids with odd numbers.\n",
    "#In odd kernels we have center pixel as a reference value.Step size to slide kernel on image is called stride..\n",
    "#Same stride for horizonal as well as vertical is mostly used.\n",
    "#For color image RGB are 3 different kernel matrices.Eg 3x3x3 means order 3x3 with third parameter as depth.\n",
    "#Depth is same as channels as RGB are three channels of light or color.So for image we have 3d array"
   ]
  },
  {
   "cell_type": "code",
   "execution_count": 3,
   "metadata": {},
   "outputs": [],
   "source": [
    "#POOLING:It downsamples the images and shrinks the image.In DL max pooling is frequently used.just a mathematical operation.\n",
    "#We pass input data to convolution layers + relu and then to pool layers and repeat this again for feauture learning .\n",
    "#then we flatten the i/p and see fully connnected networks to get output using softmax activation fxn.\n",
    "#mmoving from one layr to another we get high level features."
   ]
  },
  {
   "cell_type": "code",
   "execution_count": 4,
   "metadata": {},
   "outputs": [],
   "source": [
    "#CNN in AUDIO:CNN can be applied.Take spectrograms or MFCCS as images.Amplitude can act as pixel value.\n",
    "#Time and frequency are the x and y axis of image.Audio data has correlated structures like image and we can implement CNN.\n",
    "#Data shape=51200/512x13x1 where 51200 is no of samples in udio & 512 is Hoplength.13 are the mfccs of audio.\n",
    "# 1 is the depth and audio data is like monochannel or just greyscale."
   ]
  },
  {
   "cell_type": "code",
   "execution_count": 5,
   "metadata": {},
   "outputs": [],
   "source": [
    "import json\n",
    "import numpy as np\n",
    "from sklearn.model_selection import train_test_split\n",
    "import tensorflow.keras as keras\n",
    "import matplotlib.pyplot as plt\n",
    "import librosa\n",
    "\n",
    "DATA_PATH = \"MFCC_Data.json\"\n"
   ]
  },
  {
   "cell_type": "code",
   "execution_count": 6,
   "metadata": {},
   "outputs": [],
   "source": [
    "def load_data(data_path):\n",
    "#     Loads training dataset from json file.\n",
    "    \n",
    "    with open(data_path, \"r\") as fp:\n",
    "        data = json.load(fp)\n",
    "\n",
    "    X = np.array(data[\"mfcc\"])\n",
    "    y = np.array(data[\"labels\"])\n",
    "    return X, y\n",
    "\n"
   ]
  },
  {
   "cell_type": "code",
   "execution_count": 7,
   "metadata": {},
   "outputs": [],
   "source": [
    "def plot_history(history):\n",
    "    #Plots accuracy/loss for training/validation set as a function of the epochs\n",
    "    \n",
    "\n",
    "    fig, axs = plt.subplots(2)\n",
    "\n",
    "    # create accuracy subplot\n",
    "    axs[0].plot(history.history[\"accuracy\"], label=\"train accuracy\")\n",
    "    axs[0].plot(history.history[\"val_accuracy\"], label=\"test accuracy\")\n",
    "    axs[0].set_ylabel(\"Accuracy\")\n",
    "    axs[0].legend(loc=\"lower right\")\n",
    "    axs[0].set_title(\"Accuracy eval\")\n",
    "\n",
    "    # create error sublpot\n",
    "    axs[1].plot(history.history[\"loss\"], label=\"train error\")\n",
    "    axs[1].plot(history.history[\"val_loss\"], label=\"test error\")\n",
    "    axs[1].set_ylabel(\"Error\")\n",
    "    axs[1].set_xlabel(\"Epoch\")\n",
    "    axs[1].legend(loc=\"upper right\")\n",
    "    axs[1].set_title(\"Error eval\")\n",
    "\n",
    "    plt.show()"
   ]
  },
  {
   "cell_type": "code",
   "execution_count": null,
   "metadata": {},
   "outputs": [],
   "source": []
  },
  {
   "cell_type": "code",
   "execution_count": 8,
   "metadata": {},
   "outputs": [],
   "source": [
    "def prepare_datasets(test_size, validation_size):\n",
    "    #Loads data and splits it into train, validation and test sets.\n",
    "    \n",
    "\n",
    "    # load data\n",
    "    X, y = load_data(DATA_PATH)\n",
    "\n",
    "    # create train, validation and test split\n",
    "    X_train, X_test, y_train, y_test = train_test_split(X, y, test_size=test_size)\n",
    "    X_train, X_validation, y_train, y_validation = train_test_split(X_train, y_train, test_size=validation_size)\n",
    "\n",
    "    # add an axis to input sets\n",
    "    #we split our data into train test and train validation..\n",
    "    #For CNN tensor flow accepts a 3D array...X train is 2D here.We tear channel as 1 like a greyscle image (monochannel)\n",
    "    #(X,Y,1)\n",
    "    X_train = X_train[..., np.newaxis]#4D array with ist value as [samples , X,Y,1]\n",
    "    X_validation = X_validation[..., np.newaxis]\n",
    "    X_test = X_test[..., np.newaxis]\n",
    "    return X_train, X_validation, X_test, y_train, y_validation, y_test"
   ]
  },
  {
   "cell_type": "code",
   "execution_count": null,
   "metadata": {},
   "outputs": [],
   "source": []
  },
  {
   "cell_type": "code",
   "execution_count": 9,
   "metadata": {},
   "outputs": [],
   "source": [
    "def build_model(input_shape):#Model of CNN with 3 convolutional layers and later max pooling...\n",
    "    #param input_shape..\n",
    "\n",
    "    #making network Architechture,..\n",
    "    model = keras.Sequential()\n",
    "\n",
    "    # 1st conv layer,Adding a layer to the model usind .add()\n",
    "    model.add(keras.layers.Conv2D(32, (3, 3), activation='relu', input_shape=input_shape))\n",
    "    model.add(keras.layers.MaxPooling2D((3, 3), strides=(2, 2), padding='same'))\n",
    "    #We use pooling to down sample our input..Matrix is 3x3 and stride of 2 with zero padding at edges.\n",
    "    model.add(keras.layers.BatchNormalization())\n",
    "    #We have 32 filters and 3x3 grid size kernel with relu activation fxn.\n",
    "    #in input_shape we want to use X_train's X,Y,depth terms.Input shape is a tuple here of 3 values for convolution.\n",
    "\n",
    "    # 2nd conv layer\n",
    "    model.add(keras.layers.Conv2D(32, (3, 3), activation='relu'))\n",
    "    model.add(keras.layers.MaxPooling2D((3, 3), strides=(2, 2), padding='same'))\n",
    "    model.add(keras.layers.BatchNormalization())\n",
    "    #Batch normalisation normalises/standardises the activation fxn of current layer.\n",
    "    #model converges a way faster with more reliability and training is speeded up alot.\n",
    "\n",
    "    # 3rd conv layer\n",
    "    model.add(keras.layers.Conv2D(32, (2, 2), activation='relu'))\n",
    "    model.add(keras.layers.MaxPooling2D((2, 2), strides=(2, 2), padding='same'))\n",
    "    model.add(keras.layers.BatchNormalization())\n",
    "\n",
    "    # flatten output and feed it into dense layer\n",
    "    model.add(keras.layers.Flatten())\n",
    "    #using keras and tensor flow we flatten 2D array of layers to 1D array.\n",
    "    #Adding fully connected dense layer for classification.There are 64 neurons.\n",
    "    model.add(keras.layers.Dense(64, activation='relu'))#Fed flattened o/p to dense layer..\n",
    "    model.add(keras.layers.Dropout(0.3))\n",
    "    #30% dropout to solve overfitting problem...\n",
    "\n",
    "    # output layer This uses softmax fxn to get probability distribution.\n",
    "    model.add(keras.layers.Dense(10, activation='softmax')) \n",
    "    #Here we have 10 neurons because we have 1-0 genres in dataset to classify ..\n",
    "    return model"
   ]
  },
  {
   "cell_type": "code",
   "execution_count": 10,
   "metadata": {},
   "outputs": [],
   "source": [
    "genre_list = ['Blues','Classical','Country','Disco','Hiphop','Jazz','Metal','Pop','Reggae','Rock'] \n",
    "def predict(model, X, y):#Passed model in the prediction..\n",
    "    \n",
    "    \n",
    "    # add a dimension to input data for sample - model.predict() expects a 4d array\n",
    "    X = X[np.newaxis, ...]# (1, 130, 13, 1)We are adding extra dimension to make a 4D array.\n",
    "\n",
    "    # perform prediction\n",
    "    prediction = model.predict(X)\n",
    "\n",
    "    predicted_index = np.argmax(prediction, axis=1)\n",
    "    #Out of prediction array we want to extract the max probable value.Gives 1D value b/w 0 to 9.\n",
    "    \n",
    "    print(\"Target: {}, Predicted label: {}\".format(genre_list[y], genre_list[predicted_index[0]]))\n",
    "    return predicted_index[0]\n",
    "\n"
   ]
  },
  {
   "cell_type": "code",
   "execution_count": 11,
   "metadata": {},
   "outputs": [
    {
     "name": "stdout",
     "output_type": "stream",
     "text": [
      "Model: \"sequential\"\n",
      "_________________________________________________________________\n",
      " Layer (type)                Output Shape              Param #   \n",
      "=================================================================\n",
      " conv2d (Conv2D)             (None, 128, 11, 32)       320       \n",
      "                                                                 \n",
      " max_pooling2d (MaxPooling2D  (None, 64, 6, 32)        0         \n",
      " )                                                               \n",
      "                                                                 \n",
      " batch_normalization (BatchN  (None, 64, 6, 32)        128       \n",
      " ormalization)                                                   \n",
      "                                                                 \n",
      " conv2d_1 (Conv2D)           (None, 62, 4, 32)         9248      \n",
      "                                                                 \n",
      " max_pooling2d_1 (MaxPooling  (None, 31, 2, 32)        0         \n",
      " 2D)                                                             \n",
      "                                                                 \n",
      " batch_normalization_1 (Batc  (None, 31, 2, 32)        128       \n",
      " hNormalization)                                                 \n",
      "                                                                 \n",
      " conv2d_2 (Conv2D)           (None, 30, 1, 32)         4128      \n",
      "                                                                 \n",
      " max_pooling2d_2 (MaxPooling  (None, 15, 1, 32)        0         \n",
      " 2D)                                                             \n",
      "                                                                 \n",
      " batch_normalization_2 (Batc  (None, 15, 1, 32)        128       \n",
      " hNormalization)                                                 \n",
      "                                                                 \n",
      " flatten (Flatten)           (None, 480)               0         \n",
      "                                                                 \n",
      " dense (Dense)               (None, 64)                30784     \n",
      "                                                                 \n",
      " dropout (Dropout)           (None, 64)                0         \n",
      "                                                                 \n",
      " dense_1 (Dense)             (None, 10)                650       \n",
      "                                                                 \n",
      "=================================================================\n",
      "Total params: 45,514\n",
      "Trainable params: 45,322\n",
      "Non-trainable params: 192\n",
      "_________________________________________________________________\n",
      "Epoch 1/30\n",
      "188/188 [==============================] - 7s 32ms/step - loss: 2.4310 - accuracy: 0.2250 - val_loss: 1.8923 - val_accuracy: 0.3405\n",
      "Epoch 2/30\n",
      "188/188 [==============================] - 6s 31ms/step - loss: 1.8359 - accuracy: 0.3575 - val_loss: 1.5947 - val_accuracy: 0.4366\n",
      "Epoch 3/30\n",
      "188/188 [==============================] - 6s 32ms/step - loss: 1.6391 - accuracy: 0.4240 - val_loss: 1.4394 - val_accuracy: 0.4940\n",
      "Epoch 4/30\n",
      "188/188 [==============================] - 6s 32ms/step - loss: 1.5097 - accuracy: 0.4587 - val_loss: 1.3525 - val_accuracy: 0.5340\n",
      "Epoch 5/30\n",
      "188/188 [==============================] - 6s 32ms/step - loss: 1.4203 - accuracy: 0.4947 - val_loss: 1.2821 - val_accuracy: 0.5467\n",
      "Epoch 6/30\n",
      "188/188 [==============================] - 6s 33ms/step - loss: 1.3482 - accuracy: 0.5225 - val_loss: 1.2343 - val_accuracy: 0.5774\n",
      "Epoch 7/30\n",
      "188/188 [==============================] - 6s 33ms/step - loss: 1.2747 - accuracy: 0.5498 - val_loss: 1.1825 - val_accuracy: 0.5948\n",
      "Epoch 8/30\n",
      "188/188 [==============================] - 6s 33ms/step - loss: 1.2152 - accuracy: 0.5709 - val_loss: 1.1603 - val_accuracy: 0.5928\n",
      "Epoch 9/30\n",
      "188/188 [==============================] - 6s 34ms/step - loss: 1.1684 - accuracy: 0.5880 - val_loss: 1.1150 - val_accuracy: 0.6128\n",
      "Epoch 10/30\n",
      "188/188 [==============================] - 6s 33ms/step - loss: 1.1402 - accuracy: 0.5927 - val_loss: 1.0913 - val_accuracy: 0.6215\n",
      "Epoch 11/30\n",
      "188/188 [==============================] - 6s 33ms/step - loss: 1.0853 - accuracy: 0.6151 - val_loss: 1.0680 - val_accuracy: 0.6382\n",
      "Epoch 12/30\n",
      "188/188 [==============================] - 6s 33ms/step - loss: 1.0945 - accuracy: 0.6119 - val_loss: 1.0617 - val_accuracy: 0.6288\n",
      "Epoch 13/30\n",
      "188/188 [==============================] - 6s 33ms/step - loss: 1.0383 - accuracy: 0.6276 - val_loss: 1.0287 - val_accuracy: 0.6389\n",
      "Epoch 14/30\n",
      "188/188 [==============================] - 6s 33ms/step - loss: 1.0294 - accuracy: 0.6375 - val_loss: 1.0210 - val_accuracy: 0.6435\n",
      "Epoch 15/30\n",
      "188/188 [==============================] - 6s 33ms/step - loss: 1.0048 - accuracy: 0.6471 - val_loss: 1.0305 - val_accuracy: 0.6442\n",
      "Epoch 16/30\n",
      "188/188 [==============================] - 6s 33ms/step - loss: 0.9755 - accuracy: 0.6633 - val_loss: 1.0043 - val_accuracy: 0.6669\n",
      "Epoch 17/30\n",
      "188/188 [==============================] - 6s 33ms/step - loss: 0.9601 - accuracy: 0.6563 - val_loss: 0.9842 - val_accuracy: 0.6562\n",
      "Epoch 18/30\n",
      "188/188 [==============================] - 6s 34ms/step - loss: 0.9420 - accuracy: 0.6762 - val_loss: 0.9715 - val_accuracy: 0.6682\n",
      "Epoch 19/30\n",
      "188/188 [==============================] - 6s 34ms/step - loss: 0.9034 - accuracy: 0.6777 - val_loss: 0.9396 - val_accuracy: 0.6822\n",
      "Epoch 20/30\n",
      "188/188 [==============================] - 6s 33ms/step - loss: 0.8897 - accuracy: 0.6869 - val_loss: 0.9567 - val_accuracy: 0.6756\n",
      "Epoch 21/30\n",
      "188/188 [==============================] - 6s 34ms/step - loss: 0.8700 - accuracy: 0.6970 - val_loss: 0.9382 - val_accuracy: 0.6883\n",
      "Epoch 22/30\n",
      "188/188 [==============================] - 6s 33ms/step - loss: 0.8585 - accuracy: 0.7014 - val_loss: 0.9382 - val_accuracy: 0.6762\n",
      "Epoch 23/30\n",
      "188/188 [==============================] - 7s 36ms/step - loss: 0.8323 - accuracy: 0.7097 - val_loss: 0.9053 - val_accuracy: 0.7043\n",
      "Epoch 24/30\n",
      "188/188 [==============================] - 6s 34ms/step - loss: 0.8284 - accuracy: 0.7096 - val_loss: 0.9195 - val_accuracy: 0.6876\n",
      "Epoch 25/30\n",
      "188/188 [==============================] - 7s 36ms/step - loss: 0.7971 - accuracy: 0.7229 - val_loss: 0.8935 - val_accuracy: 0.7009\n",
      "Epoch 26/30\n",
      "188/188 [==============================] - 6s 34ms/step - loss: 0.7973 - accuracy: 0.7136 - val_loss: 0.9308 - val_accuracy: 0.6862\n",
      "Epoch 27/30\n",
      "188/188 [==============================] - 6s 34ms/step - loss: 0.7671 - accuracy: 0.7314 - val_loss: 0.8771 - val_accuracy: 0.7049\n",
      "Epoch 28/30\n",
      "188/188 [==============================] - 6s 34ms/step - loss: 0.7508 - accuracy: 0.7348 - val_loss: 0.8734 - val_accuracy: 0.7029\n",
      "Epoch 29/30\n",
      "188/188 [==============================] - 6s 34ms/step - loss: 0.7370 - accuracy: 0.7491 - val_loss: 0.8715 - val_accuracy: 0.7103\n",
      "Epoch 30/30\n",
      "188/188 [==============================] - 6s 34ms/step - loss: 0.7345 - accuracy: 0.7471 - val_loss: 0.8855 - val_accuracy: 0.7009\n"
     ]
    },
    {
     "data": {
      "image/png": "[encoded data removed]",
      "text/plain": [
       "<Figure size 432x288 with 2 Axes>"
      ]
     },
     "metadata": {
      "needs_background": "light"
     },
     "output_type": "display_data"
    },
    {
     "name": "stdout",
     "output_type": "stream",
     "text": [
      "79/79 - 1s - loss: 0.8414 - accuracy: 0.7012 - 587ms/epoch - 7ms/step\n",
      "\n",
      "Test accuracy: 0.7012414932250977\n",
      "Target: Metal, Predicted label: Metal\n"
     ]
    },
    {
     "data": {
      "text/plain": [
       "6"
      ]
     },
     "execution_count": 11,
     "metadata": {},
     "output_type": "execute_result"
    }
   ],
   "source": [
    "#main function\n",
    "\n",
    " # get train, validation, test splits\n",
    "X_train, X_validation, X_test, y_train, y_validation, y_test = prepare_datasets(0.25, 0.2)\n",
    "# create network\n",
    "input_shape = (X_train.shape[1], X_train.shape[2], 1)\n",
    "model = build_model(input_shape)\n",
    "\n",
    "# compile model\n",
    "optimiser = keras.optimizers.Adam(learning_rate=0.0001)\n",
    "model.compile(optimizer=optimiser,\n",
    "              loss='sparse_categorical_crossentropy',\n",
    "              metrics=['accuracy'])\n",
    "\n",
    "model.summary()\n",
    " # train model\n",
    "history = model.fit(X_train, y_train, validation_data=(X_validation, y_validation), batch_size=32, epochs=30)\n",
    "\n",
    "# plot accuracy/error for training and validation\n",
    "plot_history(history)\n",
    "\n",
    "# evaluate model on test set\n",
    "test_loss, test_acc = model.evaluate(X_test, y_test, verbose=2)\n",
    "print('\\nTest accuracy:', test_acc)\n",
    "\n",
    "# pick a sample to predict from the test set\n",
    "X_to_predict = X_test[100]\n",
    "y_to_predict = y_test[100]\n",
    "\n",
    "# predict sample\n",
    "predict(model, X_to_predict, y_to_predict)"
   ]
  },
  {
   "cell_type": "code",
   "execution_count": 16,
   "metadata": {},
   "outputs": [],
   "source": [
    "model.save('my_model_cnn.h5')"
   ]
  },
  {
   "cell_type": "code",
   "execution_count": 17,
   "metadata": {},
   "outputs": [
    {
     "name": "stdout",
     "output_type": "stream",
     "text": [
      "Target: Hiphop, Predicted label: Hiphop\n"
     ]
    },
    {
     "data": {
      "text/plain": [
       "4"
      ]
     },
     "execution_count": 17,
     "metadata": {},
     "output_type": "execute_result"
    }
   ],
   "source": [
    "X_to_predict = X_test[102]\n",
    "y_to_predict = y_test[102]\n",
    "\n",
    "# predict sample\n",
    "predict(model, X_to_predict, y_to_predict)"
   ]
  },
  {
   "cell_type": "code",
   "execution_count": 32,
   "metadata": {},
   "outputs": [],
   "source": [
    "\n",
    "file_path = \"TestAudios/rock.wav\"\n",
    "signal, sample_rate = librosa.load(file_path, sr=22050)"
   ]
  },
  {
   "cell_type": "code",
   "execution_count": 33,
   "metadata": {},
   "outputs": [
    {
     "data": {
      "text/plain": [
       "array([0., 0., 0., ..., 0., 0., 0.], dtype=float32)"
      ]
     },
     "execution_count": 33,
     "metadata": {},
     "output_type": "execute_result"
    }
   ],
   "source": [
    "signal"
   ]
  },
  {
   "cell_type": "code",
   "execution_count": 34,
   "metadata": {},
   "outputs": [
    {
     "data": {
      "text/plain": [
       "22050"
      ]
     },
     "execution_count": 34,
     "metadata": {},
     "output_type": "execute_result"
    }
   ],
   "source": [
    "sample_rate"
   ]
  },
  {
   "cell_type": "code",
   "execution_count": 35,
   "metadata": {},
   "outputs": [
    {
     "data": {
      "text/plain": [
       "(4473, 13)"
      ]
     },
     "execution_count": 35,
     "metadata": {},
     "output_type": "execute_result"
    }
   ],
   "source": [
    "mfcc = librosa.feature.mfcc(signal, sample_rate, n_mfcc=13, n_fft=2048, hop_length=512)\n",
    "mfcc = mfcc.T\n",
    "test  = mfcc\n",
    "# predict(model, test, y_to_predict)\n",
    "mfcc.shape"
   ]
  },
  {
   "cell_type": "code",
   "execution_count": 36,
   "metadata": {},
   "outputs": [],
   "source": [
    "model = tf.keras.models.load_model('my_model_cnn.h5')"
   ]
  },
  {
   "cell_type": "code",
   "execution_count": 38,
   "metadata": {},
   "outputs": [
    {
     "name": "stdout",
     "output_type": "stream",
     "text": [
      "0 66150\n",
      "66150 132300\n",
      "132300 198450\n",
      "198450 264600\n",
      "264600 330750\n",
      "330750 396900\n",
      "396900 463050\n",
      "463050 529200\n",
      "529200 595350\n",
      "595350 661500\n",
      "Target: Rock, Predicted label: Jazz\n",
      "Target: Rock, Predicted label: Jazz\n",
      "Target: Rock, Predicted label: Jazz\n",
      "Target: Rock, Predicted label: Jazz\n",
      "Target: Rock, Predicted label: Classical\n",
      "Target: Rock, Predicted label: Jazz\n",
      "Target: Rock, Predicted label: Jazz\n",
      "Target: Rock, Predicted label: Jazz\n",
      "Target: Rock, Predicted label: Classical\n",
      "[5, 5, 5, 5, 1, 5, 5, 5, 1]\n"
     ]
    },
    {
     "data": {
      "text/plain": [
       "'Jazz'"
      ]
     },
     "execution_count": 38,
     "metadata": {},
     "output_type": "execute_result"
    }
   ],
   "source": [
    "import math\n",
    "import tensorflow as tf\n",
    "import os\n",
    "def save_mfcc(f,num_mfcc=13,n_fft=2048,hop_length=512,num_segments=10):\n",
    "    SAMPLE_RATE = 22050\n",
    "    TRACK_DURATION = 30 #seconds\n",
    "    SAMPLES_PER_TRACK = SAMPLE_RATE * TRACK_DURATION#6 lacs approx.. 30*22050\n",
    "    #dictionary for data storage\n",
    "    data={\n",
    "         \"mapping\":[],#All genres are mapped here\n",
    "          \"mfcc\":[],#mfccs for each segment\n",
    "          \"labels\":[]#Labels for each segment\n",
    "        #Mfccs are training inputs and labels are the outputs.\n",
    "        \n",
    "        \n",
    "    }\n",
    "\n",
    "    samples_per_segment = int(SAMPLES_PER_TRACK / num_segments)\n",
    "    num_mfcc_vectors_per_segment = math.ceil(samples_per_segment / hop_length)\n",
    "\n",
    "  \n",
    "\n",
    "    # load audio file\n",
    "    file_path = f\n",
    "    signal, sample_rate = librosa.load(file_path, sr=SAMPLE_RATE)\n",
    "     # process all segments of audio file\n",
    "    for d in range(num_segments):\n",
    "\n",
    "        # calculate start and finish sample for current segment\n",
    "        start = samples_per_segment * d\n",
    "        finish = start + samples_per_segment\n",
    "        print(start,finish)\n",
    "        # extract mfcc\n",
    "        mfcc = librosa.feature.mfcc(signal[start:finish], sample_rate, n_mfcc=num_mfcc, n_fft=n_fft, hop_length=hop_length)\n",
    "        mfcc = mfcc.T\n",
    "          # store only mfcc feature with expected number of vectors\n",
    "        if len(mfcc) == num_mfcc_vectors_per_segment:\n",
    "            # We append the no. of mfccs in list if condition valid\n",
    "            data[\"mfcc\"].append(mfcc)\n",
    "#             data[\"labels\"].append(i-1)\n",
    "\n",
    "#             print(\"{}, segment:{}\".format(file_path, d+1))\n",
    "    return data\n",
    "\n",
    "data = save_mfcc(f = \"TestAudios/jazz.wav\")\n",
    "prediction_list= []\n",
    "for i in range(9):\n",
    "    gp_test = data['mfcc'][i]\n",
    "    gp_test = gp_test[..., np.newaxis]\n",
    "    prediction_list.append(predict(model, gp_test, 9))\n",
    "    \n",
    "print(prediction_list)\n",
    "from collections import Counter\n",
    "data = Counter(prediction_list)\n",
    "data.most_common(1)[0][0]\n",
    "genre_list = ['Blues','Classical','Country','Disco','Hiphop','Jazz','Metal','Pop','Reggae','Rock'] \n",
    "genre_list[data.most_common(1)[0][0]]"
   ]
  },
  {
   "cell_type": "code",
   "execution_count": 39,
   "metadata": {},
   "outputs": [
    {
     "data": {
      "text/plain": [
       "(130, 13, 1)"
      ]
     },
     "execution_count": 39,
     "metadata": {},
     "output_type": "execute_result"
    }
   ],
   "source": [
    "X_to_predict.shape"
   ]
  },
  {
   "cell_type": "code",
   "execution_count": null,
   "metadata": {},
   "outputs": [],
   "source": []
  }
 ],
 "metadata": {
  "kernelspec": {
   "display_name": "Python 3",
   "language": "python",
   "name": "python3"
  },
  "language_info": {
   "codemirror_mode": {
    "name": "ipython",
    "version": 3
   },
   "file_extension": ".py",
   "mimetype": "text/x-python",
   "name": "python",
   "nbconvert_exporter": "python",
   "pygments_lexer": "ipython3",
   "version": "3.8.8"
  }
 },
 "nbformat": 4,
 "nbformat_minor": 5
}

{
 "cells": [
  {
   "cell_type": "code",
   "execution_count": 1,
   "metadata": {},
   "outputs": [],
   "source": [
    "import math\n",
    "#Sigmoid function for activation of neuron\n",
    "\n",
    "def sigmoid(x):\n",
    "   \n",
    "    y = 1.0 / (1 + math.exp(-x))\n",
    "    return y"
   ]
  },
  {
   "cell_type": "code",
   "execution_count": 2,
   "metadata": {},
   "outputs": [],
   "source": [
    "\n",
    "def activate(inputs, weights):\n",
    "    #Computes activation of neuron based on input signals and connection\n",
    "    weights\n",
    "    h = 0\n",
    "\n",
    "    # compute the sum of the product of the input signals and the weights\n",
    "    # here we're using pythons \"zip\" function to iterate two lists together\n",
    "    for x, w in zip(inputs, weights):\n",
    "        h += x*w\n",
    "\n",
    "    # process sum through sigmoid activation function\n",
    "    return sigmoid(h)"
   ]
  },
  {
   "cell_type": "code",
   "execution_count": 3,
   "metadata": {},
   "outputs": [
    {
     "name": "stdout",
     "output_type": "stream",
     "text": [
      "0.610639233949222\n"
     ]
    }
   ],
   "source": [
    "#Creating inputs and weights\n",
    "inputs = [0.5, 0.3, 0.2]\n",
    "weights = [0.4, 0.7, 0.2]\n",
    "output = activate(inputs, weights)\n",
    "#We pass weights and inputs into our activate defined function.\n",
    "print(output)\n"
   ]
  },
  {
   "cell_type": "code",
   "execution_count": null,
   "metadata": {},
   "outputs": [],
   "source": []
  }
 ],
 "metadata": {
  "kernelspec": {
   "display_name": "Python 3",
   "language": "python",
   "name": "python3"
  },
  "language_info": {
   "codemirror_mode": {
    "name": "ipython",
    "version": 3
   },
   "file_extension": ".py",
   "mimetype": "text/x-python",
   "name": "python",
   "nbconvert_exporter": "python",
   "pygments_lexer": "ipython3",
   "version": "3.8.8"
  }
 },
 "nbformat": 4,
 "nbformat_minor": 5
}
